{
 "cells": [
  {
   "cell_type": "code",
   "execution_count": 2,
   "id": "73837b1d",
   "metadata": {},
   "outputs": [],
   "source": [
    "import numpy as np\n",
    "import pandas as pd\n",
    "import os\n",
    "\n",
    "import matplotlib.pyplot as plt\n",
    "import tensorflow as tf\n",
    "from tensorflow.keras.utils import to_categorical\n",
    "from tensorflow.keras.preprocessing.image import load_img, img_to_array\n",
    "from tensorflow.python.keras.preprocessing.image import ImageDataGenerator\n",
    "from sklearn.metrics import classification_report, log_loss, accuracy_score\n",
    "from sklearn.model_selection import train_test_split\n",
    "from keras.applications.vgg16 import VGG16\n",
    "from keras.applications.vgg16 import preprocess_input"
   ]
  },
  {
   "cell_type": "code",
   "execution_count": 3,
   "id": "a27a2f9a",
   "metadata": {},
   "outputs": [],
   "source": [
    "directory = 'Data/Train'\n",
    "directory2 = 'Data/Test'"
   ]
  },
  {
   "cell_type": "code",
   "execution_count": 4,
   "id": "9cac05be",
   "metadata": {},
   "outputs": [
    {
     "name": "stdout",
     "output_type": "stream",
     "text": [
      "['COVID19', 'NORMAL', 'PNEUMONIA']\n"
     ]
    }
   ],
   "source": [
    "File=[]\n",
    "for file in os.listdir(directory):\n",
    "    File+=[file]\n",
    "print(File)"
   ]
  },
  {
   "cell_type": "code",
   "execution_count": 5,
   "id": "4cc5cbe1",
   "metadata": {},
   "outputs": [],
   "source": [
    "dataset=[]\n",
    "mapping={'COVID19':0, 'NORMAL':1, 'PNEUMONIA':2}\n",
    "count=0\n",
    "\n",
    "for file in os.listdir(directory):\n",
    "    path=os.path.join(directory,file)\n",
    "    for im in os.listdir(path):\n",
    "        image=load_img(os.path.join(path,im), grayscale=False, color_mode='rgb', target_size=(150,150))\n",
    "        image=img_to_array(image)\n",
    "        image=image/255.0\n",
    "        dataset.append([image,count])     \n",
    "    count=count+1"
   ]
  },
  {
   "cell_type": "code",
   "execution_count": 6,
   "id": "621744ec",
   "metadata": {},
   "outputs": [],
   "source": [
    "testset=[]\n",
    "mapping={'COVID19':0, 'NORMAL':1, 'PNEUMONIA':2 }\n",
    "count=0\n",
    "\n",
    "for file in os.listdir(directory2):\n",
    "    path=os.path.join(directory2,file)\n",
    "    for im in os.listdir(path):\n",
    "        image=load_img(os.path.join(path,im), grayscale=False, color_mode='rgb', target_size=(150,150))\n",
    "        image=img_to_array(image)\n",
    "        image=image/255.0\n",
    "        testset.append([image,count])         \n",
    "    count=count+1"
   ]
  },
  {
   "cell_type": "code",
   "execution_count": 7,
   "id": "cceb006d",
   "metadata": {},
   "outputs": [],
   "source": [
    "data,labels0=zip(*dataset)\n",
    "test,testlabels0=zip(*testset)"
   ]
  },
  {
   "cell_type": "code",
   "execution_count": 8,
   "id": "23073cec",
   "metadata": {},
   "outputs": [
    {
     "name": "stdout",
     "output_type": "stream",
     "text": [
      "(5144, 150, 150, 3)\n",
      "(5144, 3)\n"
     ]
    }
   ],
   "source": [
    "labels1=to_categorical(labels0)\n",
    "data=np.array(data)\n",
    "labels=np.array(labels1)\n",
    "print(data.shape)\n",
    "print(labels.shape)"
   ]
  },
  {
   "cell_type": "code",
   "execution_count": 9,
   "id": "554036e3",
   "metadata": {},
   "outputs": [
    {
     "name": "stdout",
     "output_type": "stream",
     "text": [
      "(1288, 150, 150, 3)\n",
      "(1288, 3)\n"
     ]
    }
   ],
   "source": [
    "testlabels1=to_categorical(testlabels0)\n",
    "test=np.array(test)\n",
    "testlabels=np.array(testlabels1)\n",
    "print(test.shape)\n",
    "print(testlabels.shape)"
   ]
  },
  {
   "cell_type": "code",
   "execution_count": 10,
   "id": "5852aae6",
   "metadata": {},
   "outputs": [],
   "source": [
    "data2=data.reshape(-1,150,150,3)\n",
    "test2=test.reshape(-1,150,150,3)"
   ]
  },
  {
   "cell_type": "code",
   "execution_count": 11,
   "id": "8dea7f5d",
   "metadata": {},
   "outputs": [],
   "source": [
    "trainx,testx,trainy,testy=train_test_split(data,labels,test_size=0.2,random_state=44)"
   ]
  },
  {
   "cell_type": "code",
   "execution_count": 12,
   "id": "211b3abd",
   "metadata": {},
   "outputs": [
    {
     "name": "stdout",
     "output_type": "stream",
     "text": [
      "(4115, 150, 150, 3)\n",
      "(1029, 150, 150, 3)\n",
      "(4115, 3)\n",
      "(1029, 3)\n"
     ]
    }
   ],
   "source": [
    "print(trainx.shape)\n",
    "print(testx.shape)\n",
    "print(trainy.shape)\n",
    "print(testy.shape)"
   ]
  },
  {
   "cell_type": "code",
   "execution_count": 13,
   "id": "4b517965",
   "metadata": {},
   "outputs": [],
   "source": [
    "datagen = ImageDataGenerator(horizontal_flip=True,vertical_flip=True,rotation_range=20,zoom_range=0.2,\n",
    "                    width_shift_range=0.2,height_shift_range=0.2,shear_range=0.1,fill_mode=\"nearest\")"
   ]
  },
  {
   "cell_type": "code",
   "execution_count": 14,
   "id": "a05fe6ed",
   "metadata": {},
   "outputs": [
    {
     "name": "stdout",
     "output_type": "stream",
     "text": [
      "Base Model loaded !\n",
      "Model: \"vgg16\"\n",
      "_________________________________________________________________\n",
      "Layer (type)                 Output Shape              Param #   \n",
      "=================================================================\n",
      "input_1 (InputLayer)         [(None, 150, 150, 3)]     0         \n",
      "_________________________________________________________________\n",
      "block1_conv1 (Conv2D)        (None, 150, 150, 64)      1792      \n",
      "_________________________________________________________________\n",
      "block1_conv2 (Conv2D)        (None, 150, 150, 64)      36928     \n",
      "_________________________________________________________________\n",
      "block1_pool (MaxPooling2D)   (None, 75, 75, 64)        0         \n",
      "_________________________________________________________________\n",
      "block2_conv1 (Conv2D)        (None, 75, 75, 128)       73856     \n",
      "_________________________________________________________________\n",
      "block2_conv2 (Conv2D)        (None, 75, 75, 128)       147584    \n",
      "_________________________________________________________________\n",
      "block2_pool (MaxPooling2D)   (None, 37, 37, 128)       0         \n",
      "_________________________________________________________________\n",
      "block3_conv1 (Conv2D)        (None, 37, 37, 256)       295168    \n",
      "_________________________________________________________________\n",
      "block3_conv2 (Conv2D)        (None, 37, 37, 256)       590080    \n",
      "_________________________________________________________________\n",
      "block3_conv3 (Conv2D)        (None, 37, 37, 256)       590080    \n",
      "_________________________________________________________________\n",
      "block3_pool (MaxPooling2D)   (None, 18, 18, 256)       0         \n",
      "_________________________________________________________________\n",
      "block4_conv1 (Conv2D)        (None, 18, 18, 512)       1180160   \n",
      "_________________________________________________________________\n",
      "block4_conv2 (Conv2D)        (None, 18, 18, 512)       2359808   \n",
      "_________________________________________________________________\n",
      "block4_conv3 (Conv2D)        (None, 18, 18, 512)       2359808   \n",
      "_________________________________________________________________\n",
      "block4_pool (MaxPooling2D)   (None, 9, 9, 512)         0         \n",
      "_________________________________________________________________\n",
      "block5_conv1 (Conv2D)        (None, 9, 9, 512)         2359808   \n",
      "_________________________________________________________________\n",
      "block5_conv2 (Conv2D)        (None, 9, 9, 512)         2359808   \n",
      "_________________________________________________________________\n",
      "block5_conv3 (Conv2D)        (None, 9, 9, 512)         2359808   \n",
      "_________________________________________________________________\n",
      "block5_pool (MaxPooling2D)   (None, 4, 4, 512)         0         \n",
      "_________________________________________________________________\n",
      "global_average_pooling2d (Gl (None, 512)               0         \n",
      "=================================================================\n",
      "Total params: 14,714,688\n",
      "Trainable params: 0\n",
      "Non-trainable params: 14,714,688\n",
      "_________________________________________________________________\n"
     ]
    }
   ],
   "source": [
    "pretrained_model3 = tf.keras.applications.VGG16(input_shape=(150,150,3),include_top=False,weights='imagenet',pooling='avg')\n",
    "pretrained_model3.trainable = False\n",
    "for layer in pretrained_model3.layers:\n",
    "    layer.trainable = False\n",
    "print(\"Base Model loaded !\")    \n",
    "pretrained_model3.summary()"
   ]
  },
  {
   "cell_type": "code",
   "execution_count": 15,
   "id": "fe90d8c0",
   "metadata": {},
   "outputs": [
    {
     "name": "stdout",
     "output_type": "stream",
     "text": [
      "Model: \"functional_1\"\n",
      "_________________________________________________________________\n",
      "Layer (type)                 Output Shape              Param #   \n",
      "=================================================================\n",
      "input_1 (InputLayer)         [(None, 150, 150, 3)]     0         \n",
      "_________________________________________________________________\n",
      "block1_conv1 (Conv2D)        (None, 150, 150, 64)      1792      \n",
      "_________________________________________________________________\n",
      "block1_conv2 (Conv2D)        (None, 150, 150, 64)      36928     \n",
      "_________________________________________________________________\n",
      "block1_pool (MaxPooling2D)   (None, 75, 75, 64)        0         \n",
      "_________________________________________________________________\n",
      "block2_conv1 (Conv2D)        (None, 75, 75, 128)       73856     \n",
      "_________________________________________________________________\n",
      "block2_conv2 (Conv2D)        (None, 75, 75, 128)       147584    \n",
      "_________________________________________________________________\n",
      "block2_pool (MaxPooling2D)   (None, 37, 37, 128)       0         \n",
      "_________________________________________________________________\n",
      "block3_conv1 (Conv2D)        (None, 37, 37, 256)       295168    \n",
      "_________________________________________________________________\n",
      "block3_conv2 (Conv2D)        (None, 37, 37, 256)       590080    \n",
      "_________________________________________________________________\n",
      "block3_conv3 (Conv2D)        (None, 37, 37, 256)       590080    \n",
      "_________________________________________________________________\n",
      "block3_pool (MaxPooling2D)   (None, 18, 18, 256)       0         \n",
      "_________________________________________________________________\n",
      "block4_conv1 (Conv2D)        (None, 18, 18, 512)       1180160   \n",
      "_________________________________________________________________\n",
      "block4_conv2 (Conv2D)        (None, 18, 18, 512)       2359808   \n",
      "_________________________________________________________________\n",
      "block4_conv3 (Conv2D)        (None, 18, 18, 512)       2359808   \n",
      "_________________________________________________________________\n",
      "block4_pool (MaxPooling2D)   (None, 9, 9, 512)         0         \n",
      "_________________________________________________________________\n",
      "block5_conv1 (Conv2D)        (None, 9, 9, 512)         2359808   \n",
      "_________________________________________________________________\n",
      "block5_conv2 (Conv2D)        (None, 9, 9, 512)         2359808   \n",
      "_________________________________________________________________\n",
      "block5_conv3 (Conv2D)        (None, 9, 9, 512)         2359808   \n",
      "_________________________________________________________________\n",
      "block5_pool (MaxPooling2D)   (None, 4, 4, 512)         0         \n",
      "_________________________________________________________________\n",
      "global_average_pooling2d (Gl (None, 512)               0         \n",
      "_________________________________________________________________\n",
      "dense (Dense)                (None, 64)                32832     \n",
      "_________________________________________________________________\n",
      "dense_1 (Dense)              (None, 3)                 195       \n",
      "=================================================================\n",
      "Total params: 14,747,715\n",
      "Trainable params: 33,027\n",
      "Non-trainable params: 14,714,688\n",
      "_________________________________________________________________\n"
     ]
    }
   ],
   "source": [
    "inputs3 = pretrained_model3.input\n",
    "x3 = tf.keras.layers.Dense(64, activation='relu')(pretrained_model3.output)\n",
    "outputs3 = tf.keras.layers.Dense(3, activation='softmax')(x3)\n",
    "model = tf.keras.Model(inputs=inputs3, outputs=outputs3)\n",
    "model.compile(loss = 'categorical_crossentropy', optimizer='adam', metrics=['accuracy'])\n",
    "model.summary()"
   ]
  },
  {
   "cell_type": "code",
   "execution_count": null,
   "id": "aeca40f0",
   "metadata": {},
   "outputs": [
    {
     "name": "stdout",
     "output_type": "stream",
     "text": [
      "Epoch 1/80\n"
     ]
    }
   ],
   "source": [
    "his=model.fit(datagen.flow(trainx,trainy,batch_size=32),validation_data=(testx,testy),epochs=80)"
   ]
  },
  {
   "cell_type": "code",
   "execution_count": null,
   "id": "f5b0a17f",
   "metadata": {},
   "outputs": [],
   "source": [
    "model.evaluate(testx,testy,verbose=1)"
   ]
  },
  {
   "cell_type": "code",
   "execution_count": null,
   "id": "bfa2350b",
   "metadata": {},
   "outputs": [],
   "source": [
    "model.evaluate(trainx,trainy,verbose=1)"
   ]
  },
  {
   "cell_type": "code",
   "execution_count": null,
   "id": "b76a1d2d",
   "metadata": {},
   "outputs": [],
   "source": [
    "y_pred=model.predict(testx)\n",
    "pred=np.argmax(y_pred,axis=1)\n",
    "ground = np.argmax(testy,axis=1)\n",
    "print(classification_report(ground,pred))"
   ]
  },
  {
   "cell_type": "code",
   "execution_count": null,
   "id": "c9ce7939",
   "metadata": {},
   "outputs": [],
   "source": [
    "get_acc = his.history['accuracy']\n",
    "value_acc = his.history['val_accuracy']\n",
    "get_loss = his.history['loss']\n",
    "validation_loss = his.history['val_loss']\n",
    "\n",
    "epochs = range(len(get_acc))\n",
    "plt.plot(epochs, get_acc, 'r', label='Accuracy of Training data')\n",
    "plt.plot(epochs, value_acc, 'b', label='Accuracy of Validation data')\n",
    "plt.title('Training vs validation accuracy')\n",
    "plt.legend(loc=0)\n",
    "plt.figure()\n",
    "plt.show()"
   ]
  },
  {
   "cell_type": "code",
   "execution_count": null,
   "id": "644e3048",
   "metadata": {},
   "outputs": [],
   "source": [
    "epochs = range(len(get_loss))\n",
    "plt.plot(epochs, get_loss, 'r', label='Loss of Training data')\n",
    "plt.plot(epochs, validation_loss, 'b', label='Loss of Validation data')\n",
    "plt.title('Training vs validation loss')\n",
    "plt.legend(loc=0)\n",
    "plt.figure()\n",
    "plt.show()"
   ]
  },
  {
   "cell_type": "code",
   "execution_count": null,
   "id": "46c104c3",
   "metadata": {},
   "outputs": [],
   "source": [
    "load_img(\"Data/test/COVID19/COVID19(461).jpg\",target_size=(150,150))"
   ]
  },
  {
   "cell_type": "code",
   "execution_count": null,
   "id": "ffb6d406",
   "metadata": {},
   "outputs": [],
   "source": [
    "image=load_img(\"Data/test/COVID19/COVID19(461).jpg\",target_size=(150,150))\n",
    "\n",
    "image=img_to_array(image) \n",
    "image=image/255.0\n",
    "prediction_image=np.array(image)\n",
    "prediction_image= np.expand_dims(image, axis=0)"
   ]
  },
  {
   "cell_type": "code",
   "execution_count": null,
   "id": "5b593c40",
   "metadata": {},
   "outputs": [],
   "source": [
    "reverse_mapping={0:'COVID19', 1:'NORMAL', 2:'PNEUMONIA'}\n",
    "\n",
    "def mapper(value):\n",
    "    return reverse_mapping[value]\n",
    "\n",
    "prediction=model.predict(prediction_image)\n",
    "value=np.argmax(prediction)\n",
    "move_name=mapper(value)\n",
    "print(\"Prediction is {}.\".format(move_name))"
   ]
  },
  {
   "cell_type": "code",
   "execution_count": null,
   "id": "4c4aeac5",
   "metadata": {},
   "outputs": [],
   "source": [
    "model.save(\"GR-VGG16.h5\")"
   ]
  },
  {
   "cell_type": "code",
   "execution_count": null,
   "id": "59251b6a",
   "metadata": {},
   "outputs": [],
   "source": []
  }
 ],
 "metadata": {
  "kernelspec": {
   "display_name": "Python 3",
   "language": "python",
   "name": "python3"
  },
  "language_info": {
   "codemirror_mode": {
    "name": "ipython",
    "version": 3
   },
   "file_extension": ".py",
   "mimetype": "text/x-python",
   "name": "python",
   "nbconvert_exporter": "python",
   "pygments_lexer": "ipython3",
   "version": "3.8.8"
  }
 },
 "nbformat": 4,
 "nbformat_minor": 5
}
